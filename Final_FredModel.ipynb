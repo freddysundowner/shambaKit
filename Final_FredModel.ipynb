{
  "nbformat": 4,
  "nbformat_minor": 0,
  "metadata": {
    "colab": {
      "provenance": [],
      "machine_shape": "hm",
      "gpuType": "T4",
      "authorship_tag": "ABX9TyNVgeiLErOdDl18LG34CLDa",
      "include_colab_link": true
    },
    "kernelspec": {
      "name": "python3",
      "display_name": "Python 3"
    },
    "language_info": {
      "name": "python"
    },
    "accelerator": "GPU"
  },
  "cells": [
    {
      "cell_type": "markdown",
      "metadata": {
        "id": "view-in-github",
        "colab_type": "text"
      },
      "source": [
        "<a href=\"https://colab.research.google.com/github/freddysundowner/shambaKit/blob/main/Final_FredModel.ipynb\" target=\"_parent\"><img src=\"https://colab.research.google.com/assets/colab-badge.svg\" alt=\"Open In Colab\"/></a>"
      ]
    },
    {
      "cell_type": "code",
      "execution_count": null,
      "metadata": {
        "id": "uv-152jSo47G"
      },
      "outputs": [],
      "source": [
        "!pip install -q opendatasets"
      ]
    },
    {
      "cell_type": "code",
      "source": [
        "import opendatasets as od\n",
        "import numpy as np\n",
        "import pandas as pd\n",
        "import os\n",
        "import matplotlib.pyplot as plt\n",
        "import keras\n",
        "from keras.preprocessing.image import ImageDataGenerator,img_to_array,load_img\n",
        "from keras.applications.vgg19 import VGG19, preprocess_input, decode_predictions"
      ],
      "metadata": {
        "id": "QdVxfIg8qeRd"
      },
      "execution_count": null,
      "outputs": []
    },
    {
      "cell_type": "code",
      "source": [
        "od.download('https://www.kaggle.com/datasets/vipoooool/new-plant-diseases-dataset') # insert ypu kaggle  username and key"
      ],
      "metadata": {
        "colab": {
          "base_uri": "https://localhost:8080/"
        },
        "id": "a6ZH19XZqf3C",
        "outputId": "ecefcf9a-3d18-416c-b446-e0358aecaf0d"
      },
      "execution_count": null,
      "outputs": [
        {
          "output_type": "stream",
          "name": "stdout",
          "text": [
            "Please provide your Kaggle credentials to download this dataset. Learn more: http://bit.ly/kaggle-creds\n",
            "Your Kaggle username: alutatechnologies\n",
            "Your Kaggle Key: ··········\n",
            "Dataset URL: https://www.kaggle.com/datasets/vipoooool/new-plant-diseases-dataset\n",
            "Downloading new-plant-diseases-dataset.zip to ./new-plant-diseases-dataset\n"
          ]
        },
        {
          "output_type": "stream",
          "name": "stderr",
          "text": [
            "100%|██████████| 2.70G/2.70G [00:13<00:00, 220MB/s]\n"
          ]
        },
        {
          "output_type": "stream",
          "name": "stdout",
          "text": [
            "\n"
          ]
        }
      ]
    },
    {
      "cell_type": "code",
      "source": [
        "list_crasses = os.listdir(\"/content/new-plant-diseases-dataset/New Plant Diseases Dataset(Augmented)/New Plant Diseases Dataset(Augmented)/train\")\n",
        "len(list_crasses)"
      ],
      "metadata": {
        "colab": {
          "base_uri": "https://localhost:8080/"
        },
        "id": "P-K6Kb_wtgPB",
        "outputId": "34c14620-c57e-4ad2-be61-0be826edc005"
      },
      "execution_count": null,
      "outputs": [
        {
          "output_type": "execute_result",
          "data": {
            "text/plain": [
              "38"
            ]
          },
          "metadata": {},
          "execution_count": 4
        }
      ]
    },
    {
      "cell_type": "code",
      "source": [
        "train_datagen = ImageDataGenerator(zoom_range=0.5, shear_range=0.3,horizontal_flip= True, preprocessing_function=preprocess_input)\n",
        "val_datagen = ImageDataGenerator(preprocessing_function=preprocess_input)"
      ],
      "metadata": {
        "id": "Wt1-Tdz-tnZs"
      },
      "execution_count": null,
      "outputs": []
    },
    {
      "cell_type": "code",
      "source": [
        "train = train_datagen.flow_from_directory(\n",
        "    directory= \"/content/new-plant-diseases-dataset/New Plant Diseases Dataset(Augmented)/New Plant Diseases Dataset(Augmented)/train\",\n",
        "    target_size = (256,256),\n",
        "    batch_size = 32)\n",
        "val = val_datagen.flow_from_directory(\n",
        "    directory= \"/content/new-plant-diseases-dataset/New Plant Diseases Dataset(Augmented)/New Plant Diseases Dataset(Augmented)/valid\",\n",
        "    target_size = (256,256),\n",
        "    batch_size = 32)"
      ],
      "metadata": {
        "colab": {
          "base_uri": "https://localhost:8080/"
        },
        "id": "RLM2_xqRuRzf",
        "outputId": "f2e0b536-6dfe-45ce-d115-aed47eaed1a7"
      },
      "execution_count": null,
      "outputs": [
        {
          "output_type": "stream",
          "name": "stdout",
          "text": [
            "Found 70295 images belonging to 38 classes.\n",
            "Found 17572 images belonging to 38 classes.\n"
          ]
        }
      ]
    },
    {
      "cell_type": "code",
      "source": [
        "t_img, label = train.next()"
      ],
      "metadata": {
        "id": "__xfPLJCv-D6"
      },
      "execution_count": null,
      "outputs": []
    },
    {
      "cell_type": "code",
      "source": [
        "t_img.shape"
      ],
      "metadata": {
        "colab": {
          "base_uri": "https://localhost:8080/"
        },
        "id": "HIqReFVTwKUU",
        "outputId": "7dbef9fe-a7a6-411d-e2bd-514f920c73f5"
      },
      "execution_count": null,
      "outputs": [
        {
          "output_type": "execute_result",
          "data": {
            "text/plain": [
              "(32, 256, 256, 3)"
            ]
          },
          "metadata": {},
          "execution_count": 9
        }
      ]
    },
    {
      "cell_type": "code",
      "source": [
        "def plotImage(img_arr, label):\n",
        "  for im, l in zip(img_arr, label):\n",
        "    plt.figure(figsize=(5,5))\n",
        "    plt.show()"
      ],
      "metadata": {
        "id": "BTb3poZmwL3H"
      },
      "execution_count": null,
      "outputs": []
    },
    {
      "cell_type": "code",
      "source": [
        "plotImage(t_img[:3], label[:3])"
      ],
      "metadata": {
        "colab": {
          "base_uri": "https://localhost:8080/",
          "height": 71
        },
        "id": "XDCxETTDwvmU",
        "outputId": "a3e31aa1-e3eb-480d-85a5-8a1c30a83556"
      },
      "execution_count": null,
      "outputs": [
        {
          "output_type": "display_data",
          "data": {
            "text/plain": [
              "<Figure size 500x500 with 0 Axes>"
            ]
          },
          "metadata": {}
        },
        {
          "output_type": "display_data",
          "data": {
            "text/plain": [
              "<Figure size 500x500 with 0 Axes>"
            ]
          },
          "metadata": {}
        },
        {
          "output_type": "display_data",
          "data": {
            "text/plain": [
              "<Figure size 500x500 with 0 Axes>"
            ]
          },
          "metadata": {}
        }
      ]
    },
    {
      "cell_type": "code",
      "source": [
        "from keras.layers import Dense, Flatten\n",
        "from keras.models import Model\n",
        "import keras"
      ],
      "metadata": {
        "id": "pj7bLrRexOQR"
      },
      "execution_count": null,
      "outputs": []
    },
    {
      "cell_type": "code",
      "source": [
        "base_model = VGG19(input_shape=(256,256,3), include_top= False)"
      ],
      "metadata": {
        "colab": {
          "base_uri": "https://localhost:8080/"
        },
        "id": "WRvLWTyezAkc",
        "outputId": "515a6b13-54a2-4590-e2c3-f92b239d6c4e"
      },
      "execution_count": null,
      "outputs": [
        {
          "output_type": "stream",
          "name": "stdout",
          "text": [
            "Downloading data from https://storage.googleapis.com/tensorflow/keras-applications/vgg19/vgg19_weights_tf_dim_ordering_tf_kernels_notop.h5\n",
            "80134624/80134624 [==============================] - 0s 0us/step\n"
          ]
        }
      ]
    },
    {
      "cell_type": "code",
      "source": [
        "for layer in base_model.layers:\n",
        "  layer.trainable = False"
      ],
      "metadata": {
        "id": "BZHkP1yLzP7O"
      },
      "execution_count": null,
      "outputs": []
    },
    {
      "cell_type": "code",
      "source": [
        "base_model.summary()"
      ],
      "metadata": {
        "colab": {
          "base_uri": "https://localhost:8080/"
        },
        "id": "guaYRcH2zmtC",
        "outputId": "41118bbe-29a7-4bb7-ed02-228940556ee7"
      },
      "execution_count": null,
      "outputs": [
        {
          "output_type": "stream",
          "name": "stdout",
          "text": [
            "Model: \"vgg19\"\n",
            "_________________________________________________________________\n",
            " Layer (type)                Output Shape              Param #   \n",
            "=================================================================\n",
            " input_1 (InputLayer)        [(None, 256, 256, 3)]     0         \n",
            "                                                                 \n",
            " block1_conv1 (Conv2D)       (None, 256, 256, 64)      1792      \n",
            "                                                                 \n",
            " block1_conv2 (Conv2D)       (None, 256, 256, 64)      36928     \n",
            "                                                                 \n",
            " block1_pool (MaxPooling2D)  (None, 128, 128, 64)      0         \n",
            "                                                                 \n",
            " block2_conv1 (Conv2D)       (None, 128, 128, 128)     73856     \n",
            "                                                                 \n",
            " block2_conv2 (Conv2D)       (None, 128, 128, 128)     147584    \n",
            "                                                                 \n",
            " block2_pool (MaxPooling2D)  (None, 64, 64, 128)       0         \n",
            "                                                                 \n",
            " block3_conv1 (Conv2D)       (None, 64, 64, 256)       295168    \n",
            "                                                                 \n",
            " block3_conv2 (Conv2D)       (None, 64, 64, 256)       590080    \n",
            "                                                                 \n",
            " block3_conv3 (Conv2D)       (None, 64, 64, 256)       590080    \n",
            "                                                                 \n",
            " block3_conv4 (Conv2D)       (None, 64, 64, 256)       590080    \n",
            "                                                                 \n",
            " block3_pool (MaxPooling2D)  (None, 32, 32, 256)       0         \n",
            "                                                                 \n",
            " block4_conv1 (Conv2D)       (None, 32, 32, 512)       1180160   \n",
            "                                                                 \n",
            " block4_conv2 (Conv2D)       (None, 32, 32, 512)       2359808   \n",
            "                                                                 \n",
            " block4_conv3 (Conv2D)       (None, 32, 32, 512)       2359808   \n",
            "                                                                 \n",
            " block4_conv4 (Conv2D)       (None, 32, 32, 512)       2359808   \n",
            "                                                                 \n",
            " block4_pool (MaxPooling2D)  (None, 16, 16, 512)       0         \n",
            "                                                                 \n",
            " block5_conv1 (Conv2D)       (None, 16, 16, 512)       2359808   \n",
            "                                                                 \n",
            " block5_conv2 (Conv2D)       (None, 16, 16, 512)       2359808   \n",
            "                                                                 \n",
            " block5_conv3 (Conv2D)       (None, 16, 16, 512)       2359808   \n",
            "                                                                 \n",
            " block5_conv4 (Conv2D)       (None, 16, 16, 512)       2359808   \n",
            "                                                                 \n",
            " block5_pool (MaxPooling2D)  (None, 8, 8, 512)         0         \n",
            "                                                                 \n",
            "=================================================================\n",
            "Total params: 20024384 (76.39 MB)\n",
            "Trainable params: 0 (0.00 Byte)\n",
            "Non-trainable params: 20024384 (76.39 MB)\n",
            "_________________________________________________________________\n"
          ]
        }
      ]
    },
    {
      "cell_type": "code",
      "source": [
        "x = Flatten()(base_model.output)\n",
        "x = Dense(units = 38, activation = 'softmax')(x)\n",
        "model = Model(base_model.input, x)"
      ],
      "metadata": {
        "id": "6Xr17uyCzhet"
      },
      "execution_count": null,
      "outputs": []
    },
    {
      "cell_type": "code",
      "source": [
        "model.summary()"
      ],
      "metadata": {
        "colab": {
          "base_uri": "https://localhost:8080/"
        },
        "id": "Ihqj2UOYz530",
        "outputId": "85905c32-cfe6-4b32-d036-94dafa0b7a75"
      },
      "execution_count": null,
      "outputs": [
        {
          "output_type": "stream",
          "name": "stdout",
          "text": [
            "Model: \"model\"\n",
            "_________________________________________________________________\n",
            " Layer (type)                Output Shape              Param #   \n",
            "=================================================================\n",
            " input_1 (InputLayer)        [(None, 256, 256, 3)]     0         \n",
            "                                                                 \n",
            " block1_conv1 (Conv2D)       (None, 256, 256, 64)      1792      \n",
            "                                                                 \n",
            " block1_conv2 (Conv2D)       (None, 256, 256, 64)      36928     \n",
            "                                                                 \n",
            " block1_pool (MaxPooling2D)  (None, 128, 128, 64)      0         \n",
            "                                                                 \n",
            " block2_conv1 (Conv2D)       (None, 128, 128, 128)     73856     \n",
            "                                                                 \n",
            " block2_conv2 (Conv2D)       (None, 128, 128, 128)     147584    \n",
            "                                                                 \n",
            " block2_pool (MaxPooling2D)  (None, 64, 64, 128)       0         \n",
            "                                                                 \n",
            " block3_conv1 (Conv2D)       (None, 64, 64, 256)       295168    \n",
            "                                                                 \n",
            " block3_conv2 (Conv2D)       (None, 64, 64, 256)       590080    \n",
            "                                                                 \n",
            " block3_conv3 (Conv2D)       (None, 64, 64, 256)       590080    \n",
            "                                                                 \n",
            " block3_conv4 (Conv2D)       (None, 64, 64, 256)       590080    \n",
            "                                                                 \n",
            " block3_pool (MaxPooling2D)  (None, 32, 32, 256)       0         \n",
            "                                                                 \n",
            " block4_conv1 (Conv2D)       (None, 32, 32, 512)       1180160   \n",
            "                                                                 \n",
            " block4_conv2 (Conv2D)       (None, 32, 32, 512)       2359808   \n",
            "                                                                 \n",
            " block4_conv3 (Conv2D)       (None, 32, 32, 512)       2359808   \n",
            "                                                                 \n",
            " block4_conv4 (Conv2D)       (None, 32, 32, 512)       2359808   \n",
            "                                                                 \n",
            " block4_pool (MaxPooling2D)  (None, 16, 16, 512)       0         \n",
            "                                                                 \n",
            " block5_conv1 (Conv2D)       (None, 16, 16, 512)       2359808   \n",
            "                                                                 \n",
            " block5_conv2 (Conv2D)       (None, 16, 16, 512)       2359808   \n",
            "                                                                 \n",
            " block5_conv3 (Conv2D)       (None, 16, 16, 512)       2359808   \n",
            "                                                                 \n",
            " block5_conv4 (Conv2D)       (None, 16, 16, 512)       2359808   \n",
            "                                                                 \n",
            " block5_pool (MaxPooling2D)  (None, 8, 8, 512)         0         \n",
            "                                                                 \n",
            " flatten (Flatten)           (None, 32768)             0         \n",
            "                                                                 \n",
            " dense (Dense)               (None, 38)                1245222   \n",
            "                                                                 \n",
            "=================================================================\n",
            "Total params: 21269606 (81.14 MB)\n",
            "Trainable params: 1245222 (4.75 MB)\n",
            "Non-trainable params: 20024384 (76.39 MB)\n",
            "_________________________________________________________________\n"
          ]
        }
      ]
    },
    {
      "cell_type": "code",
      "source": [
        "from keras.callbacks import ModelCheckpoint, EarlyStopping\n",
        "es = EarlyStopping(\n",
        "    monitor = 'val_accuracy',\n",
        "    min_delta = 0.01,\n",
        "    patience = 3,\n",
        "    verbose = 1\n",
        ")\n",
        "\n",
        "mc = ModelCheckpoint(\n",
        "        filepath = \"best_model.h5\",\n",
        "        monitor = \"val_accuracy\",\n",
        "        min_delta = 0.01,\n",
        "        patience = 3,\n",
        "        verbose = 1,\n",
        "        save_best_only = True\n",
        ")\n",
        "cb = [es,mc]"
      ],
      "metadata": {
        "id": "GMCMFr9i0YQf"
      },
      "execution_count": null,
      "outputs": []
    },
    {
      "cell_type": "code",
      "source": [
        "model.compile(\n",
        "    optimizer=\"adam\",\n",
        "    loss = keras.losses.categorical_crossentropy,\n",
        "    metrics = ['accuracy']\n",
        "    )"
      ],
      "metadata": {
        "id": "CKmjcpom2mWo"
      },
      "execution_count": null,
      "outputs": []
    },
    {
      "cell_type": "code",
      "source": [
        "his = model.fit_generator(train,\n",
        "                          steps_per_epoch =16,\n",
        "                          epochs = 50,\n",
        "                          verbose = 1,\n",
        "                          callbacks = cb,\n",
        "                          validation_data = val,\n",
        "                          validation_steps = 16\n",
        ")"
      ],
      "metadata": {
        "colab": {
          "base_uri": "https://localhost:8080/"
        },
        "id": "xlDbpNCm1_lU",
        "outputId": "90fab56f-b3a9-4015-ecbb-523a672a421e"
      },
      "execution_count": null,
      "outputs": [
        {
          "output_type": "stream",
          "name": "stderr",
          "text": [
            "<ipython-input-20-7b5d585786a9>:1: UserWarning: `Model.fit_generator` is deprecated and will be removed in a future version. Please use `Model.fit`, which supports generators.\n",
            "  his = model.fit_generator(train,\n"
          ]
        },
        {
          "output_type": "stream",
          "name": "stdout",
          "text": [
            "Epoch 1/50\n",
            "16/16 [==============================] - ETA: 0s - loss: 26.8646 - accuracy: 0.1895 \n",
            "Epoch 1: val_accuracy improved from -inf to 0.42383, saving model to best_model.h5\n"
          ]
        },
        {
          "output_type": "stream",
          "name": "stderr",
          "text": [
            "/usr/local/lib/python3.10/dist-packages/keras/src/engine/training.py:3103: UserWarning: You are saving your model as an HDF5 file via `model.save()`. This file format is considered legacy. We recommend using instead the native Keras format, e.g. `model.save('my_model.keras')`.\n",
            "  saving_api.save_model(\n"
          ]
        },
        {
          "output_type": "stream",
          "name": "stdout",
          "text": [
            "\b\b\b\b\b\b\b\b\b\b\b\b\b\b\b\b\b\b\b\b\b\b\b\b\b\b\b\b\b\b\b\b\b\b\b\b\b\b\b\b\b\b\b\b\b\b\b\b\b\b\b\b\b\b\b\b\b\b\b\b\b\b\b\b\b\b\b\b\b\b\b\b\b\b\b\b\b\b\b\b\b\b\b\r16/16 [==============================] - 1047s 67s/step - loss: 26.8646 - accuracy: 0.1895 - val_loss: 12.5558 - val_accuracy: 0.4238\n",
            "Epoch 2/50\n",
            "16/16 [==============================] - ETA: 0s - loss: 13.8346 - accuracy: 0.4180 \n",
            "Epoch 2: val_accuracy improved from 0.42383 to 0.56445, saving model to best_model.h5\n",
            "16/16 [==============================] - 1089s 70s/step - loss: 13.8346 - accuracy: 0.4180 - val_loss: 10.3321 - val_accuracy: 0.5645\n",
            "Epoch 3/50\n",
            "16/16 [==============================] - ETA: 0s - loss: 12.5377 - accuracy: 0.5176 \n",
            "Epoch 3: val_accuracy improved from 0.56445 to 0.64844, saving model to best_model.h5\n",
            "16/16 [==============================] - 1032s 67s/step - loss: 12.5377 - accuracy: 0.5176 - val_loss: 8.2323 - val_accuracy: 0.6484\n",
            "Epoch 4/50\n",
            "16/16 [==============================] - ETA: 0s - loss: 11.3990 - accuracy: 0.5781 \n",
            "Epoch 4: val_accuracy improved from 0.64844 to 0.73633, saving model to best_model.h5\n",
            "16/16 [==============================] - 1035s 67s/step - loss: 11.3990 - accuracy: 0.5781 - val_loss: 5.4059 - val_accuracy: 0.7363\n",
            "Epoch 5/50\n",
            "16/16 [==============================] - ETA: 0s - loss: 9.2649 - accuracy: 0.6445 \n",
            "Epoch 5: val_accuracy did not improve from 0.73633\n",
            "16/16 [==============================] - 1082s 70s/step - loss: 9.2649 - accuracy: 0.6445 - val_loss: 7.1672 - val_accuracy: 0.7168\n",
            "Epoch 6/50\n",
            "16/16 [==============================] - ETA: 0s - loss: 9.0634 - accuracy: 0.6582 \n",
            "Epoch 6: val_accuracy improved from 0.73633 to 0.77930, saving model to best_model.h5\n",
            "16/16 [==============================] - 1081s 70s/step - loss: 9.0634 - accuracy: 0.6582 - val_loss: 5.2472 - val_accuracy: 0.7793\n",
            "Epoch 7/50\n",
            "16/16 [==============================] - ETA: 0s - loss: 8.4018 - accuracy: 0.6660 \n",
            "Epoch 7: val_accuracy did not improve from 0.77930\n",
            "16/16 [==============================] - 1078s 70s/step - loss: 8.4018 - accuracy: 0.6660 - val_loss: 7.1245 - val_accuracy: 0.7480\n",
            "Epoch 8/50\n",
            "16/16 [==============================] - ETA: 0s - loss: 8.4093 - accuracy: 0.6895 \n",
            "Epoch 8: val_accuracy improved from 0.77930 to 0.79688, saving model to best_model.h5\n",
            "16/16 [==============================] - 1080s 70s/step - loss: 8.4093 - accuracy: 0.6895 - val_loss: 5.2191 - val_accuracy: 0.7969\n",
            "Epoch 9/50\n",
            "16/16 [==============================] - ETA: 0s - loss: 8.0768 - accuracy: 0.7168 \n",
            "Epoch 9: val_accuracy did not improve from 0.79688\n",
            "16/16 [==============================] - 1128s 73s/step - loss: 8.0768 - accuracy: 0.7168 - val_loss: 5.4132 - val_accuracy: 0.7910\n",
            "Epoch 10/50\n",
            "16/16 [==============================] - ETA: 0s - loss: 8.3853 - accuracy: 0.7051 \n",
            "Epoch 10: val_accuracy did not improve from 0.79688\n",
            "16/16 [==============================] - 1029s 66s/step - loss: 8.3853 - accuracy: 0.7051 - val_loss: 6.4043 - val_accuracy: 0.7812\n",
            "Epoch 11/50\n",
            "16/16 [==============================] - ETA: 0s - loss: 7.3632 - accuracy: 0.6992 \n",
            "Epoch 11: val_accuracy did not improve from 0.79688\n",
            "16/16 [==============================] - 1082s 70s/step - loss: 7.3632 - accuracy: 0.6992 - val_loss: 6.7746 - val_accuracy: 0.7695\n",
            "Epoch 11: early stopping\n"
          ]
        }
      ]
    },
    {
      "cell_type": "code",
      "source": [
        "from keras.models import load_model\n",
        "model = load_model(\"/content/best_model.h5\")"
      ],
      "metadata": {
        "id": "TGmjVNNMX343"
      },
      "execution_count": null,
      "outputs": []
    },
    {
      "cell_type": "code",
      "source": [
        "acc = model.evaluate_generator(val)[1]\n",
        "print(f\"The accuracy of your model is = {acc*100} %\")"
      ],
      "metadata": {
        "id": "llntVBwyYB5P",
        "outputId": "42138bde-03d6-4c2c-96b4-d8e3185f1cd6",
        "colab": {
          "base_uri": "https://localhost:8080/"
        }
      },
      "execution_count": null,
      "outputs": [
        {
          "output_type": "stream",
          "name": "stderr",
          "text": [
            "<ipython-input-23-b894b7d2940c>:1: UserWarning: `Model.evaluate_generator` is deprecated and will be removed in a future version. Please use `Model.evaluate`, which supports generators.\n",
            "  acc = model.evaluate_generator(val)[1]\n"
          ]
        }
      ]
    },
    {
      "cell_type": "code",
      "source": [
        "def prediction(path):\n",
        "  img = load_img(path,target_size=(256,256))\n",
        "  i = img_to_array(img)\n",
        "  im = preprocess_input(i)\n",
        "  img = np.expand_dims(im, axis = 0)\n",
        "  pred = model.predict(img)\n",
        "  print(pred)"
      ],
      "metadata": {
        "id": "gtfOscAcYf6H"
      },
      "execution_count": null,
      "outputs": []
    },
    {
      "cell_type": "code",
      "source": [
        "path = \"/content/new-plant-diseases-dataset/test/test/AppleCedarRust1.JPG\"\n",
        "prediction(path)"
      ],
      "metadata": {
        "id": "koLaldqYZrGl"
      },
      "execution_count": null,
      "outputs": []
    }
  ]
}